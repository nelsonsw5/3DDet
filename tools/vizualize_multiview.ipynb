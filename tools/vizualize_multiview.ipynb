{
 "cells": [
  {
   "cell_type": "code",
   "execution_count": 2,
   "metadata": {},
   "outputs": [],
   "source": [
    "import json\n",
    "from pytorch3d.io import load_obj\n",
    "from transforms import YForward2NegZForward, NegZForward2YForward\n",
    "from wandb_utils.wandb import WandB\n",
    "import torch\n",
    "import numpy as np\n",
    "\n",
    "# run1 = WandB(\n",
    "#         project='objdet_GT_Viz',\n",
    "#         enabled=True,\n",
    "#         log_objects=True,\n",
    "#         name='GT Train Viz - Multiview: '\n",
    "#     )"
   ]
  },
  {
   "cell_type": "code",
   "execution_count": 3,
   "metadata": {},
   "outputs": [],
   "source": [
    "json_mapping = '/multiview/3d-count/obj_detection/scripts/json_kitti_mapping.json'\n",
    "f = open(json_mapping)\n",
    "json_map = json.load(f)\n",
    "f.close()"
   ]
  },
  {
   "cell_type": "code",
   "execution_count": 8,
   "metadata": {},
   "outputs": [
    {
     "data": {
      "text/plain": [
       "{'24k_frustum_label': '/multiview/3d-count/obj_detection/normalized_data/labels/299fa980-f6aa-419f-a996-f7601b45e2bc-0.json',\n",
       " '24k_frustum_point_cloud_path': '/multiview/3d-count/obj_detection/normalized_data/obj/299fa980-f6aa-419f-a996-f7601b45e2bc-0.obj',\n",
       " 'obj_detection_kitti_path': '/multiview/3d-count/obj_detection/normalized_data/training/label_2/000000.txt'}"
      ]
     },
     "execution_count": 8,
     "metadata": {},
     "output_type": "execute_result"
    }
   ],
   "source": [
    "json_map['299fa980-f6aa-419f-a996-f7601b45e2bc-0']\n",
    "# id = '299fa980-f6aa-419f-a996-f7601b45e2bc-0'\n",
    "# id = '299fa980-f6aa-419f-a996-f7601b45e2bc-2'"
   ]
  },
  {
   "cell_type": "code",
   "execution_count": 65,
   "metadata": {},
   "outputs": [],
   "source": [
    "label_path = json_map[id][\"obj_detection_kitti_path\"]\n",
    "f = open(label_path,'r',encoding = 'utf-8')\n",
    "data = f.readlines()    # read the first 4 data\n",
    "# f.close()"
   ]
  },
  {
   "cell_type": "code",
   "execution_count": 66,
   "metadata": {},
   "outputs": [],
   "source": [
    "dims = []\n",
    "loc = []\n",
    "shift = NegZForward2YForward()\n",
    "for i in data:\n",
    "    centroid = []\n",
    "    dimensions = []\n",
    "    dimensions.append(float(i.split()[8]))\n",
    "    dimensions.append(float(i.split()[9]))\n",
    "    dimensions.append(float(i.split()[10]))\n",
    "    # print(dimensions)\n",
    "    # dims.append(shift(torch.tensor(dimensions)).tolist())\n",
    "    dims.append(dimensions)\n",
    "    centroid.append(float(i.split()[11]))\n",
    "    centroid.append(float(i.split()[12]))\n",
    "    centroid.append(float(i.split()[13]))\n",
    "    # loc.append(shift(torch.tensor(centroid)).tolist())\n",
    "    loc.append(centroid)\n",
    "dims = np.array(dims)\n",
    "loc = np.array(loc)\n"
   ]
  },
  {
   "cell_type": "code",
   "execution_count": 67,
   "metadata": {},
   "outputs": [
    {
     "name": "stdout",
     "output_type": "stream",
     "text": [
      "[[0.64134446 0.20315426 0.20315422]\n",
      " [0.64134446 0.20315426 0.20315423]\n",
      " [0.64134446 0.20315426 0.20315416]\n",
      " [0.64134446 0.20315426 0.20315433]\n",
      " [0.64134446 0.20315426 0.20315421]]\n"
     ]
    }
   ],
   "source": [
    "box_list = []\n",
    "labels = []\n",
    "\n",
    "boxes = run1.get_bb_dict(centroids=loc, dims=dims, labels=labels)\n",
    "\n",
    "obj_path = json_map[id][\"24k_frustum_point_cloud_path\"]\n",
    "pc, _, _ = load_obj(obj_path)\n",
    "# pc = shift(pc)\n",
    "pc_dict = run1.get_point_cloud_log(pc, boxes=boxes)"
   ]
  },
  {
   "cell_type": "code",
   "execution_count": 68,
   "metadata": {},
   "outputs": [
    {
     "data": {
      "text/html": [
       "<br/>Waiting for W&B process to finish, PID 320779... <strong style=\"color:green\">(success).</strong>"
      ],
      "text/plain": [
       "<IPython.core.display.HTML object>"
      ]
     },
     "metadata": {},
     "output_type": "display_data"
    },
    {
     "data": {
      "application/vnd.jupyter.widget-view+json": {
       "model_id": "78a6e084b54a4ee2ad0303b9eab85496",
       "version_major": 2,
       "version_minor": 0
      },
      "text/plain": [
       "VBox(children=(Label(value=' 0.00MB of 0.24MB uploaded (0.00MB deduped)\\r'), FloatProgress(value=0.00421399564…"
      ]
     },
     "metadata": {},
     "output_type": "display_data"
    },
    {
     "data": {
      "text/html": [
       "<style>\n",
       "    table.wandb td:nth-child(1) { padding: 0 10px; text-align: right }\n",
       "    .wandb-row { display: flex; flex-direction: row; flex-wrap: wrap; width: 100% }\n",
       "    .wandb-col { display: flex; flex-direction: column; flex-basis: 100%; flex: 1; padding: 10px; }\n",
       "    </style>\n",
       "<div class=\"wandb-row\"><div class=\"wandb-col\">\n",
       "</div><div class=\"wandb-col\">\n",
       "</div></div>\n",
       "Synced 6 W&B file(s), 1 media file(s), 0 artifact file(s) and 0 other file(s)\n",
       "<br/>Synced <strong style=\"color:#cdcd00\">GT Train Viz - Multiview: </strong>: <a href=\"https://wandb.ai/nelsonsw5/objdet_GT_Viz/runs/1nktcs87\" target=\"_blank\">https://wandb.ai/nelsonsw5/objdet_GT_Viz/runs/1nktcs87</a><br/>\n",
       "Find logs at: <code>./wandb/run-20220208_144130-1nktcs87/logs</code><br/>\n"
      ],
      "text/plain": [
       "<IPython.core.display.HTML object>"
      ]
     },
     "metadata": {},
     "output_type": "display_data"
    }
   ],
   "source": [
    "run1.log(pc_dict)\n",
    "run1.finish()"
   ]
  },
  {
   "cell_type": "code",
   "execution_count": null,
   "metadata": {},
   "outputs": [],
   "source": []
  },
  {
   "cell_type": "code",
   "execution_count": null,
   "metadata": {},
   "outputs": [],
   "source": []
  }
 ],
 "metadata": {
  "interpreter": {
   "hash": "f095195ca808ccc9499a20efdf2006ddc2fca99fc7f3a7b6615aa612211ca14d"
  },
  "kernelspec": {
   "display_name": "Python 3.8.12 ('kitti': conda)",
   "language": "python",
   "name": "python3"
  },
  "language_info": {
   "codemirror_mode": {
    "name": "ipython",
    "version": 3
   },
   "file_extension": ".py",
   "mimetype": "text/x-python",
   "name": "python",
   "nbconvert_exporter": "python",
   "pygments_lexer": "ipython3",
   "version": "3.8.12"
  },
  "orig_nbformat": 4
 },
 "nbformat": 4,
 "nbformat_minor": 2
}
