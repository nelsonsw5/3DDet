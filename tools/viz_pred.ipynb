{
 "cells": [
  {
   "cell_type": "code",
   "execution_count": 1,
   "metadata": {},
   "outputs": [],
   "source": [
    "import pickle\n",
    "import json\n",
    "from vizualize_results import viz, viz_multiview\n",
    "from wandb_utils.wandb import WandB\n",
    "from pytorch3d.io import load_obj\n",
    "import pdb\n",
    "import torch\n",
    "from transforms import NormalizeShift, YForward2NegZForward, NegZForward2YForward\n",
    "import numpy as np"
   ]
  },
  {
   "cell_type": "code",
   "execution_count": 2,
   "metadata": {},
   "outputs": [
    {
     "name": "stderr",
     "output_type": "stream",
     "text": [
      "Failed to detect the name of this notebook, you can set it manually with the WANDB_NOTEBOOK_NAME environment variable to enable code saving.\n",
      "\u001b[34m\u001b[1mwandb\u001b[0m: Currently logged in as: \u001b[33mnelsonsw5\u001b[0m (use `wandb login --relogin` to force relogin)\n",
      "\u001b[34m\u001b[1mwandb\u001b[0m: wandb version 0.12.10 is available!  To upgrade, please run:\n",
      "\u001b[34m\u001b[1mwandb\u001b[0m:  $ pip install wandb --upgrade\n"
     ]
    },
    {
     "data": {
      "text/html": [
       "\n",
       "                    Syncing run <strong><a href=\"https://wandb.ai/nelsonsw5/3DDet_Viz/runs/d8ksf7cx\" target=\"_blank\">Pred Viz</a></strong> to <a href=\"https://wandb.ai/nelsonsw5/3DDet_Viz\" target=\"_blank\">Weights & Biases</a> (<a href=\"https://docs.wandb.com/integrations/jupyter.html\" target=\"_blank\">docs</a>).<br/>\n",
       "\n",
       "                "
      ],
      "text/plain": [
       "<IPython.core.display.HTML object>"
      ]
     },
     "metadata": {},
     "output_type": "display_data"
    },
    {
     "data": {
      "text/html": [
       "<br/>Waiting for W&B process to finish, PID 617556... <strong style=\"color:green\">(success).</strong>"
      ],
      "text/plain": [
       "<IPython.core.display.HTML object>"
      ]
     },
     "metadata": {},
     "output_type": "display_data"
    },
    {
     "data": {
      "application/vnd.jupyter.widget-view+json": {
       "model_id": "207c18b9c13f4c9189d03d64198d3d4d",
       "version_major": 2,
       "version_minor": 0
      },
      "text/plain": [
       "VBox(children=(Label(value=' 0.00MB of 0.18MB uploaded (0.00MB deduped)\\r'), FloatProgress(value=0.00554359776…"
      ]
     },
     "metadata": {},
     "output_type": "display_data"
    },
    {
     "data": {
      "text/html": [
       "<style>\n",
       "    table.wandb td:nth-child(1) { padding: 0 10px; text-align: right }\n",
       "    .wandb-row { display: flex; flex-direction: row; flex-wrap: wrap; width: 100% }\n",
       "    .wandb-col { display: flex; flex-direction: column; flex-basis: 100%; flex: 1; padding: 10px; }\n",
       "    </style>\n",
       "<div class=\"wandb-row\"><div class=\"wandb-col\">\n",
       "</div><div class=\"wandb-col\">\n",
       "</div></div>\n",
       "Synced 5 W&B file(s), 1 media file(s), 0 artifact file(s) and 0 other file(s)\n",
       "<br/>Synced <strong style=\"color:#cdcd00\">Pred Viz</strong>: <a href=\"https://wandb.ai/nelsonsw5/3DDet_Viz/runs/d8ksf7cx\" target=\"_blank\">https://wandb.ai/nelsonsw5/3DDet_Viz/runs/d8ksf7cx</a><br/>\n",
       "Find logs at: <code>./wandb/run-20220210_171033-d8ksf7cx/logs</code><br/>\n"
      ],
      "text/plain": [
       "<IPython.core.display.HTML object>"
      ]
     },
     "metadata": {},
     "output_type": "display_data"
    }
   ],
   "source": [
    "with open('/home/stephen/Documents/3DDet/output/kitti_models/pointpillar/default/eval/epoch_10/val/default/result.pkl', 'rb') as j:\n",
    "    x = pickle.load(j)\n",
    "labels = []\n",
    "centroids = []\n",
    "dims = []\n",
    "# id = '000000'\n",
    "count_limit = 50\n",
    "count = 0\n",
    "# pdb.set_trace()\n",
    "run = WandB(\n",
    "    project='3DDet_Viz',\n",
    "    enabled=True,\n",
    "    log_objects=True,\n",
    "    name='Pred Viz'\n",
    ")\n",
    "for scene in x:\n",
    "    if count < count_limit:\n",
    "        centroids = scene['location']\n",
    "        dims = scene['dimensions']\n",
    "        labels = scene['name']\n",
    "        id = scene['frame_id']\n",
    "        for row in centroids:\n",
    "            row = list(row)\n",
    "        for row1 in dims:\n",
    "            row1 = list(row1)\n",
    "        for row2 in labels:\n",
    "            row2 = list(row2)\n",
    "        labels = list(labels)\n",
    "        centroids = torch.tensor(centroids)\n",
    "        dims = torch.tensor(dims)\n",
    "        lidar_file = \"/multiview/3d-count/obj_detection/normalized_data/testing/velodyne/000000.bin\"\n",
    "        pc = np.fromfile(str(lidar_file), dtype=np.float32).reshape(-1, 4)\n",
    "        boxes = run.get_bb_dict(centroids, dims, labels=labels)\n",
    "        log_dict = run.get_point_cloud_log(pc, boxes=boxes)\n",
    "        run.log(log_dict)\n",
    "        count = count + 1\n",
    "        break\n",
    "run.finish()"
   ]
  },
  {
   "cell_type": "code",
   "execution_count": 2,
   "metadata": {},
   "outputs": [
    {
     "name": "stderr",
     "output_type": "stream",
     "text": [
      "Failed to detect the name of this notebook, you can set it manually with the WANDB_NOTEBOOK_NAME environment variable to enable code saving.\n",
      "\u001b[34m\u001b[1mwandb\u001b[0m: Currently logged in as: \u001b[33mnelsonsw5\u001b[0m (use `wandb login --relogin` to force relogin)\n",
      "\u001b[34m\u001b[1mwandb\u001b[0m: wandb version 0.12.10 is available!  To upgrade, please run:\n",
      "\u001b[34m\u001b[1mwandb\u001b[0m:  $ pip install wandb --upgrade\n"
     ]
    },
    {
     "data": {
      "text/html": [
       "\n",
       "                    Syncing run <strong><a href=\"https://wandb.ai/nelsonsw5/3DDet_Viz/runs/3u3c15n6\" target=\"_blank\">GT</a></strong> to <a href=\"https://wandb.ai/nelsonsw5/3DDet_Viz\" target=\"_blank\">Weights & Biases</a> (<a href=\"https://docs.wandb.com/integrations/jupyter.html\" target=\"_blank\">docs</a>).<br/>\n",
       "\n",
       "                "
      ],
      "text/plain": [
       "<IPython.core.display.HTML object>"
      ]
     },
     "metadata": {},
     "output_type": "display_data"
    },
    {
     "data": {
      "text/html": [
       "<br/>Waiting for W&B process to finish, PID 682848... <strong style=\"color:green\">(success).</strong>"
      ],
      "text/plain": [
       "<IPython.core.display.HTML object>"
      ]
     },
     "metadata": {},
     "output_type": "display_data"
    },
    {
     "data": {
      "application/vnd.jupyter.widget-view+json": {
       "model_id": "6111c92eb60940a895affd3feec1b124",
       "version_major": 2,
       "version_minor": 0
      },
      "text/plain": [
       "VBox(children=(Label(value=' 0.18MB of 0.18MB uploaded (0.00MB deduped)\\r'), FloatProgress(value=1.0, max=1.0)…"
      ]
     },
     "metadata": {},
     "output_type": "display_data"
    },
    {
     "data": {
      "text/html": [
       "<style>\n",
       "    table.wandb td:nth-child(1) { padding: 0 10px; text-align: right }\n",
       "    .wandb-row { display: flex; flex-direction: row; flex-wrap: wrap; width: 100% }\n",
       "    .wandb-col { display: flex; flex-direction: column; flex-basis: 100%; flex: 1; padding: 10px; }\n",
       "    </style>\n",
       "<div class=\"wandb-row\"><div class=\"wandb-col\">\n",
       "</div><div class=\"wandb-col\">\n",
       "</div></div>\n",
       "Synced 5 W&B file(s), 1 media file(s), 0 artifact file(s) and 0 other file(s)\n",
       "<br/>Synced <strong style=\"color:#cdcd00\">GT</strong>: <a href=\"https://wandb.ai/nelsonsw5/3DDet_Viz/runs/3u3c15n6\" target=\"_blank\">https://wandb.ai/nelsonsw5/3DDet_Viz/runs/3u3c15n6</a><br/>\n",
       "Find logs at: <code>./wandb/run-20220211_163634-3u3c15n6/logs</code><br/>\n"
      ],
      "text/plain": [
       "<IPython.core.display.HTML object>"
      ]
     },
     "metadata": {},
     "output_type": "display_data"
    }
   ],
   "source": [
    "run = WandB(\n",
    "    project='3DDet_Viz',\n",
    "    enabled=True,\n",
    "    log_objects=True,\n",
    "    name='GT'\n",
    ")\n",
    "# for scene in x:\n",
    "# if count < count_limit:\n",
    "with open('/multiview/3d-count/obj_detection/normalized_data/training/label_2/000000.txt') as k:\n",
    "    data = k.readlines()\n",
    "loc = []\n",
    "dims = []\n",
    "labels = []\n",
    "for i in data:\n",
    "    centroid = []\n",
    "    dimensions = []\n",
    "    # print(i.split())\n",
    "    dimensions.append(float(i.split()[8]))\n",
    "    dimensions.append(float(i.split()[9]))\n",
    "    dimensions.append(float(i.split()[10]))\n",
    "    dims.append(dimensions)\n",
    "    centroid.append(float(i.split()[11]))\n",
    "    centroid.append(float(i.split()[12]))\n",
    "    centroid.append(float(i.split()[13]))\n",
    "    loc.append(centroid)\n",
    "dims = np.array(dims)\n",
    "loc = np.array(loc)\n",
    "lidar_file = \"/multiview/3d-count/obj_detection/normalized_data/training/velodyne/000000.bin\"\n",
    "pc = np.fromfile(str(lidar_file), dtype=np.float32).reshape(-1, 4)\n",
    "boxes = run.get_bb_dict(loc, dims, labels=labels)\n",
    "log_dict = run.get_point_cloud_log(pc, boxes=boxes)\n",
    "run.log(log_dict)\n",
    "# count = count + 1\n",
    "run.finish()"
   ]
  },
  {
   "cell_type": "code",
   "execution_count": 3,
   "metadata": {},
   "outputs": [
    {
     "name": "stderr",
     "output_type": "stream",
     "text": [
      "\u001b[34m\u001b[1mwandb\u001b[0m: wandb version 0.12.10 is available!  To upgrade, please run:\n",
      "\u001b[34m\u001b[1mwandb\u001b[0m:  $ pip install wandb --upgrade\n"
     ]
    },
    {
     "data": {
      "text/html": [
       "\n",
       "                    Syncing run <strong><a href=\"https://wandb.ai/nelsonsw5/3DDet_Viz/runs/38n3dwcb\" target=\"_blank\">Pred Viz</a></strong> to <a href=\"https://wandb.ai/nelsonsw5/3DDet_Viz\" target=\"_blank\">Weights & Biases</a> (<a href=\"https://docs.wandb.com/integrations/jupyter.html\" target=\"_blank\">docs</a>).<br/>\n",
       "\n",
       "                "
      ],
      "text/plain": [
       "<IPython.core.display.HTML object>"
      ]
     },
     "metadata": {},
     "output_type": "display_data"
    },
    {
     "data": {
      "text/html": [
       "<br/>Waiting for W&B process to finish, PID 520056... <strong style=\"color:green\">(success).</strong>"
      ],
      "text/plain": [
       "<IPython.core.display.HTML object>"
      ]
     },
     "metadata": {},
     "output_type": "display_data"
    },
    {
     "data": {
      "application/vnd.jupyter.widget-view+json": {
       "model_id": "7572f7e3b3464cc4838e3e704c7026f0",
       "version_major": 2,
       "version_minor": 0
      },
      "text/plain": [
       "VBox(children=(Label(value=' 17.69MB of 17.69MB uploaded (0.00MB deduped)\\r'), FloatProgress(value=1.0, max=1.…"
      ]
     },
     "metadata": {},
     "output_type": "display_data"
    },
    {
     "data": {
      "text/html": [
       "<style>\n",
       "    table.wandb td:nth-child(1) { padding: 0 10px; text-align: right }\n",
       "    .wandb-row { display: flex; flex-direction: row; flex-wrap: wrap; width: 100% }\n",
       "    .wandb-col { display: flex; flex-direction: column; flex-basis: 100%; flex: 1; padding: 10px; }\n",
       "    </style>\n",
       "<div class=\"wandb-row\"><div class=\"wandb-col\">\n",
       "</div><div class=\"wandb-col\">\n",
       "</div></div>\n",
       "Synced 5 W&B file(s), 1 media file(s), 0 artifact file(s) and 0 other file(s)\n",
       "<br/>Synced <strong style=\"color:#cdcd00\">Pred Viz</strong>: <a href=\"https://wandb.ai/nelsonsw5/3DDet_Viz/runs/38n3dwcb\" target=\"_blank\">https://wandb.ai/nelsonsw5/3DDet_Viz/runs/38n3dwcb</a><br/>\n",
       "Find logs at: <code>./wandb/run-20220209_213320-38n3dwcb/logs</code><br/>\n"
      ],
      "text/plain": [
       "<IPython.core.display.HTML object>"
      ]
     },
     "metadata": {},
     "output_type": "display_data"
    }
   ],
   "source": [
    "with open('/home/stephen/Documents/Kitti/output/kitti_models/pointpillar/default/eval/epoch_7728/val/default/result.pkl', 'rb') as j:\n",
    "    x = pickle.load(j)\n",
    "labels = []\n",
    "centroids = []\n",
    "dims = []\n",
    "# id = '000000'\n",
    "count_limit = 50\n",
    "count = 0\n",
    "# pdb.set_trace()\n",
    "run = WandB(\n",
    "    project='3DDet_Viz',\n",
    "    enabled=True,\n",
    "    log_objects=True,\n",
    "    name='Pred Viz'\n",
    ")\n",
    "shift = NegZForward2YForward()\n",
    "for scene in x:\n",
    "    if count < count_limit:\n",
    "        centroids = scene['location']\n",
    "        dims = scene['dimensions']\n",
    "        labels = scene['name']\n",
    "        id = scene['frame_id']\n",
    "        for row in centroids:\n",
    "            row = list(row)\n",
    "        for row1 in dims:\n",
    "            row1 = list(row1)\n",
    "        for row2 in labels:\n",
    "            row2 = list(row2)\n",
    "        labels = list(labels)\n",
    "        centroids = torch.tensor(centroids)\n",
    "        dims = torch.tensor(dims)\n",
    "        lidar_file = \"/multiview/Kitti/testing/velodyne/000000.bin\"\n",
    "        pc = np.fromfile(str(lidar_file), dtype=np.float32).reshape(-1, 4)\n",
    "        boxes = run.get_bb_dict(centroids, dims, labels=labels)\n",
    "        log_dict = run.get_point_cloud_log(pc, boxes=boxes)\n",
    "        run.log(log_dict)\n",
    "        count = count + 1\n",
    "        break\n",
    "run.finish()"
   ]
  }
 ],
 "metadata": {
  "interpreter": {
   "hash": "f095195ca808ccc9499a20efdf2006ddc2fca99fc7f3a7b6615aa612211ca14d"
  },
  "kernelspec": {
   "display_name": "Python 3.8.12 ('kitti': conda)",
   "language": "python",
   "name": "python3"
  },
  "language_info": {
   "codemirror_mode": {
    "name": "ipython",
    "version": 3
   },
   "file_extension": ".py",
   "mimetype": "text/x-python",
   "name": "python",
   "nbconvert_exporter": "python",
   "pygments_lexer": "ipython3",
   "version": "3.8.12"
  },
  "orig_nbformat": 4
 },
 "nbformat": 4,
 "nbformat_minor": 2
}
