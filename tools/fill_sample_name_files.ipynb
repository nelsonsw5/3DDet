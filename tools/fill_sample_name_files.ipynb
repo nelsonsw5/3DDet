{
 "cells": [
  {
   "cell_type": "code",
   "execution_count": 30,
   "metadata": {},
   "outputs": [],
   "source": [
    "import os\n",
    "file1 = '/multiview/3d-count/obj_detection/normalized_data/ImageSets/train.txt'\n",
    "with open(file1, 'w') as f:\n",
    "    for i in range(0,503063):\n",
    "        i = str(i)\n",
    "        f.write(i.zfill(6) +\" \\n\")\n",
    "\n"
   ]
  },
  {
   "cell_type": "code",
   "execution_count": null,
   "metadata": {},
   "outputs": [],
   "source": []
  }
 ],
 "metadata": {
  "interpreter": {
   "hash": "f095195ca808ccc9499a20efdf2006ddc2fca99fc7f3a7b6615aa612211ca14d"
  },
  "kernelspec": {
   "display_name": "Python 3.8.12 ('kitti': conda)",
   "language": "python",
   "name": "python3"
  },
  "language_info": {
   "codemirror_mode": {
    "name": "ipython",
    "version": 3
   },
   "file_extension": ".py",
   "mimetype": "text/x-python",
   "name": "python",
   "nbconvert_exporter": "python",
   "pygments_lexer": "ipython3",
   "version": "3.8.12"
  },
  "orig_nbformat": 4
 },
 "nbformat": 4,
 "nbformat_minor": 2
}
