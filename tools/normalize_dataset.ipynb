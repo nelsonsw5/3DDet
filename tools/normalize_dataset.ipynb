{
 "cells": [
  {
   "cell_type": "code",
   "execution_count": 1,
   "metadata": {},
   "outputs": [],
   "source": [
    "from transforms import NormalizeShift\n",
    "import json\n",
    "import pdb\n",
    "from os import listdir\n",
    "from os.path import isfile, join\n",
    "import numpy as np\n",
    "import pytorch3d\n",
    "from pytorch3d.io import load_obj\n",
    "import torch\n",
    "\n"
   ]
  },
  {
   "cell_type": "code",
   "execution_count": 5,
   "metadata": {},
   "outputs": [],
   "source": [
    "def convert_cloud(file, i):\n",
    "    try:\n",
    "        bin_file_name = f'{i:06}.bin'\n",
    "        point_cloud = pytorch3d.io.load_obj(file)\n",
    "        np_point_cloud = point_cloud[0]\n",
    "        norm_shift = NormalizeShift()\n",
    "        np_point_cloud = norm_shift.fit_transform(np_point_cloud)\n",
    "        xarr = np_point_cloud[:,0]\n",
    "        yarr = np_point_cloud[:,1]\n",
    "        zarr = np_point_cloud[:,2]\n",
    "        ## Get data from pcd (x, y, z, intensity, ring, time)\n",
    "        np_x = (np.array(xarr, dtype=np.float32)).astype(np.float32)\n",
    "        np_y = (np.array(yarr, dtype=np.float32)).astype(np.float32)\n",
    "        np_z = (np.array(zarr, dtype=np.float32)).astype(np.float32)\n",
    "        np_i = (np.ones(len(zarr), dtype=np.float32)).astype(np.float32)\n",
    "        transformed_cloud = np.transpose(np.vstack((np_x, np_y, np_z, np_i)))\n",
    "        transformed_cloud.tofile('/multiview/3d-count/obj_detection/normalized_data/training/velodyne/' + bin_file_name)\n",
    "        i += 1\n",
    "    except:\n",
    "        print(\"something went wrong\")\n",
    "    return norm_shift\n"
   ]
  },
  {
   "cell_type": "code",
   "execution_count": 6,
   "metadata": {},
   "outputs": [],
   "source": [
    "def convert_label(file, i, norm_shift):\n",
    "    try:\n",
    "        txt_file_name = f'{i:06}.txt'\n",
    "        with open('/multiview/3d-count/obj_detection/normalized_data/training/label_2/' + txt_file_name, \"w\") as text_file:\n",
    "            label = json.load(open(file))\n",
    "            bbs = label['bounding_boxes']\n",
    "            for cls, points in bbs.items():\n",
    "                class_name = cls.split(\"_\")[0]\n",
    "                occluded = 0\n",
    "                truncated = 0\n",
    "                alpha = 0\n",
    "                points = norm_shift(torch.tensor(points))\n",
    "                points = np.array(points)\n",
    "                x = points[:,0]\n",
    "                y = points[:,1]\n",
    "                z = points[:,2]\n",
    "                width = max(x) - min(x)\n",
    "                height = max(y) - min(y)\n",
    "                length = max(z) - min(z)\n",
    "                location_x = np.mean(x)\n",
    "                location_y = np.mean(y)\n",
    "                location_z = np.mean(z)\n",
    "                out_arr = list([class_name, str(float(truncated)), str(int(occluded)), str(float(alpha)), str(0.0), str(0.0), str(0.0), str(0.0), str(height), str(width), str(length), str(location_x), str(location_y), str(location_z)])\n",
    "                out_str = \" \".join(out_arr) + '\\n'\n",
    "                text_file.write(out_str)\n",
    "            i += 1\n",
    "    except:\n",
    "        print(\"something went wrong\")"
   ]
  },
  {
   "cell_type": "code",
   "execution_count": 7,
   "metadata": {},
   "outputs": [],
   "source": [
    "metadata_file = '/multiview/3d-count/frustum-cooler-24k/train-metadata.json'\n",
    "metadata = json.load(open(metadata_file))\n",
    "counter = 0\n",
    "for scenes in metadata.values():\n",
    "    pc_file = scenes['point_cloud']\n",
    "    label = scenes['label']\n",
    "    norm = convert_cloud(pc_file,counter)\n",
    "    convert_label(label, counter, norm)\n",
    "    counter = counter + 1\n",
    "    \n"
   ]
  },
  {
   "cell_type": "code",
   "execution_count": 108,
   "metadata": {},
   "outputs": [
    {
     "data": {
      "text/plain": [
       "tensor([[-0.1716,  0.4954, -0.0554],\n",
       "        [-0.1445,  0.5588, -0.0551],\n",
       "        [-0.2099,  0.6360, -0.0567],\n",
       "        ...,\n",
       "        [-0.1424,  0.4667,  0.1196],\n",
       "        [-0.1453,  0.4966, -0.2937],\n",
       "        [-0.1513,  0.5729, -0.0733]])"
      ]
     },
     "execution_count": 108,
     "metadata": {},
     "output_type": "execute_result"
    }
   ],
   "source": [
    "metadata_file = '/multiview/3d-count/frustum-cooler-24k/test-metadata.json'\n",
    "metadata = json.load(open(metadata_file))\n",
    "file = metadata['4114ad3a-09ea-49c6-8ee8-5758fb50c66c-0']['point_cloud']\n",
    "point_cloud = pytorch3d.io.load_obj(file)[0]\n",
    "point_cloud"
   ]
  },
  {
   "cell_type": "code",
   "execution_count": 54,
   "metadata": {},
   "outputs": [
    {
     "name": "stdout",
     "output_type": "stream",
     "text": [
      "None\n"
     ]
    }
   ],
   "source": [
    "norm_shift = NormalizeShift()\n",
    "point_cloud = norm_shift.fit_transform(point_cloud)\n",
    "xarr = point_cloud[:,0]\n",
    "yarr = point_cloud[:,1]\n",
    "zarr = point_cloud[:,2]\n",
    "## Get data from pcd (x, y, z, intensity, ring, time)\n",
    "np_x = (np.array(xarr, dtype=np.float32)).astype(np.float32)\n",
    "np_y = (np.array(yarr, dtype=np.float32)).astype(np.float32)\n",
    "np_z = (np.array(zarr, dtype=np.float32)).astype(np.float32)\n",
    "np_i = (np.ones(len(zarr), dtype=np.float32)).astype(np.float32)\n",
    "transformed_cloud = np.transpose(np.vstack((np_x, np_y, np_z, np_i)))\n",
    "transformed_cloud.tofile('/multiview/3d-count/obj_detection/normalized_data/testing/velodyne/' + '000000.bin')"
   ]
  },
  {
   "cell_type": "code",
   "execution_count": null,
   "metadata": {},
   "outputs": [],
   "source": []
  }
 ],
 "metadata": {
  "interpreter": {
   "hash": "f095195ca808ccc9499a20efdf2006ddc2fca99fc7f3a7b6615aa612211ca14d"
  },
  "kernelspec": {
   "display_name": "Python 3.8.12 64-bit ('kitti': conda)",
   "language": "python",
   "name": "python3"
  },
  "language_info": {
   "codemirror_mode": {
    "name": "ipython",
    "version": 3
   },
   "file_extension": ".py",
   "mimetype": "text/x-python",
   "name": "python",
   "nbconvert_exporter": "python",
   "pygments_lexer": "ipython3",
   "version": "3.8.12"
  },
  "orig_nbformat": 4
 },
 "nbformat": 4,
 "nbformat_minor": 2
}
